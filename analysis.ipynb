{
 "cells": [
  {
   "cell_type": "markdown",
   "metadata": {},
   "source": [
    "## <u>Project Title</U>\n",
    "### Analyzing India's Metal and Alloys Export Trends"
   ]
  },
  {
   "cell_type": "markdown",
   "metadata": {},
   "source": [
    "## <u>Objective</u>\n",
    "### To conduct a comprehensive data analysis of India's metal and alloys export data spanning over 10 years to derive actionable insights and trends.\n",
    "\n",
    "## <u>Technologies Used</u>\n",
    "### Python, Excel, PowerBI\n",
    "<hr/>"
   ]
  },
  {
   "cell_type": "markdown",
   "metadata": {},
   "source": [
    "### <u>General Overview of the project</u>\n",
    "<ul>\n",
    "<li> Ask - Defining the relevant Questions </li>\n",
    "<li> Prepare - Data Collecting,  Data description</li>\n",
    "<li> Process - Cleaning the data </li>\n",
    "<li> Analyze - Understanding and interpreting data, why it happens? </li>\n",
    "<li> Share - Visualization and Dashboarding </li>\n",
    "<li> Act - Strategy implementation and conclusion </li>\n",
    "<hr/>"
   ]
  },
  {
   "cell_type": "markdown",
   "metadata": {},
   "source": [
    "# <u>ASK</u>\n",
    "## Questions we are trying to answer\n",
    "1. What is the overall trend in the export of metal and alloys over the past decade?\n",
    "2. Which specific types of metals and alloys show significant growth or decline in export volume and value?\n",
    "3. How has the unit price (value/quantity) changed over the years?\n",
    "## Post Analysis Question\n",
    "4. Are there any correlations between economic indicators (e.g., GDP) and metal/alloy exports?\n",
    "5. What are the key factors influencing export trends, such as policy changes, global market conditions, or technological advancements?\n",
    "\n",
    "<hr/>"
   ]
  },
  {
   "cell_type": "markdown",
   "metadata": {},
   "source": [
    "# <u>PREPARE</u>\n",
    "### <u>Data Information</u>\n",
    "<p>Analloy is a material composed of two or more metals or a metal and a nonmetal and metal is a material that is typically hard, opaque, shiny, and has good electrical and thermal conductivity. Here the data refers to quantity and value of exports of Metals and Alloys.</p>\n",
    "\n",
    "##### **Released Under:** National Data Sharing and Accessibility Policy (NDSAP)\n",
    "##### **Contributor:** Ministry of Mines, Indian Bureau of Mines\n",
    "##### **Domain:** Open Government Data (OGD) Platform India\n",
    "##### **Source:**  DGCI&S,Kolkata.\n",
    "<hr/>"
   ]
  },
  {
   "cell_type": "markdown",
   "metadata": {},
   "source": [
    "# <u>PROCESS</u>\n",
    "### <u>Data Cleaning</u>"
   ]
  },
  {
   "cell_type": "code",
   "execution_count": 68,
   "metadata": {},
   "outputs": [],
   "source": [
    "# Importing the necessary libraries\n",
    "import pandas as pd\n",
    "import numpy as np\n",
    "import seaborn as sb\n",
    "import matplotlib.pyplot as plt\n",
    "\n",
    "# Importing the files\n",
    "f1 = pd.read_csv('8-9_9-10.csv', encoding='unicode_escape')\n",
    "f2 = pd.read_csv('10-11R_11-12.csv', encoding='unicode_escape')\n",
    "f3 = pd.read_csv('12-13.csv')\n",
    "f4 = pd.read_csv('13-14.csv')\n",
    "f5 = pd.read_csv('14-15.csv')\n",
    "f6 = pd.read_csv('15-16R_16-17P_17-18P.csv')"
   ]
  },
  {
   "cell_type": "code",
   "execution_count": 70,
   "metadata": {},
   "outputs": [],
   "source": [
    "merged_df = pd.merge(f1, f2, how='outer', on=['Metals and Alloys', 'Unit'])\n",
    "merged_df = pd.merge(merged_df, f3, how='outer',\n",
    "                     on=['Metals and Alloys', 'Unit'])\n",
    "merged_df = pd.merge(merged_df, f4, how='outer',\n",
    "                     on=['Metals and Alloys', 'Unit'])\n",
    "merged_df = pd.merge(merged_df, f5, how='outer',\n",
    "                     on=['Metals and Alloys', 'Unit'])\n",
    "merged_df = pd.merge(merged_df, f6, how='outer',\n",
    "                     on=['Metals and Alloys', 'Unit'])\n",
    "merged_df.to_excel('output.xlsx')"
   ]
  }
 ],
 "metadata": {
  "kernelspec": {
   "display_name": "Python 3",
   "language": "python",
   "name": "python3"
  },
  "language_info": {
   "codemirror_mode": {
    "name": "ipython",
    "version": 3
   },
   "file_extension": ".py",
   "mimetype": "text/x-python",
   "name": "python",
   "nbconvert_exporter": "python",
   "pygments_lexer": "ipython3",
   "version": "3.12.1"
  }
 },
 "nbformat": 4,
 "nbformat_minor": 2
}
