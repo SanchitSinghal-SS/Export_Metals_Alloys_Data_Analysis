{
 "cells": [
  {
   "cell_type": "markdown",
   "metadata": {},
   "source": [
    "## <u>Project Title</U>\n",
    "### Analyzing India's Metal and Alloys Export Trends"
   ]
  },
  {
   "cell_type": "markdown",
   "metadata": {},
   "source": [
    "## <u>Objective</u>\n",
    "### To conduct a comprehensive data analysis of India's metal and alloys export data spanning over 10 years to derive actionable insights and trends."
   ]
  },
  {
   "cell_type": "markdown",
   "metadata": {},
   "source": [
    "### <u>General Overview of the project</u>\n",
    "<ul>\n",
    "<li> Ask - Defining the relevant Questions </li>\n",
    "<li> Prepare - Data Collecting </li>\n",
    "<li> Process - Data description, Cleaning the data </li>\n",
    "<li> Analyze - Understanding and interpreting data, why it happens? </li>\n",
    "<li> Share - Visualization and Dashboarding </li>\n",
    "<li> Act - Strategy implementation and conclusion </li>"
   ]
  },
  {
   "cell_type": "markdown",
   "metadata": {},
   "source": [
    "# <u>ASK</u>\n",
    "## Questions we are trying to find solution to\n",
    "1. What is the overall trend in the export of metal and alloys over the past decade?\n",
    "2. Which specific types of metals and alloys show significant growth or decline in export volume and value?\n",
    "3. How has the unit price (value/quantity) changed over the years?\n",
    "## Post Analysis Question\n",
    "4. Are there any correlations between economic indicators (e.g., GDP) and metal/alloy exports?\n",
    "5. What are the key factors influencing export trends, such as policy changes, global market conditions, or technological advancements?"
   ]
  }
 ],
 "metadata": {
  "kernelspec": {
   "display_name": "Python 3",
   "language": "python",
   "name": "python3"
  },
  "language_info": {
   "name": "python",
   "version": "3.12.1"
  }
 },
 "nbformat": 4,
 "nbformat_minor": 2
}
